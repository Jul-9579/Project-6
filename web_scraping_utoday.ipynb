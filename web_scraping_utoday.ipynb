{
 "cells": [
  {
   "cell_type": "code",
   "execution_count": null,
   "id": "c0371565",
   "metadata": {},
   "outputs": [],
   "source": [
    "import requests\n",
    "import bs4\n",
    "\n",
    "response = requests.get(\"https://u.today/search/node?keys=bitcoin\")\n",
    "soup = bs4.BeautifulSoup(response.text, 'html.parser') "
   ]
  },
  {
   "cell_type": "code",
   "execution_count": 8,
   "id": "4c2b4899",
   "metadata": {},
   "outputs": [],
   "source": [
    "class_name = \"news__item-title\""
   ]
  },
  {
   "cell_type": "code",
   "execution_count": 38,
   "id": "7b3ecf8c",
   "metadata": {},
   "outputs": [
    {
     "data": {
      "text/plain": [
       "[<div class=\"news__item-title\">Breaking: Saylor’s Strategy Makes New Bitcoin Buy, Now Holding 580,955 BTC</div>,\n",
       " <div class=\"news__item-title\">Elon Musk Brings Up Bitcoin 1st Time in 3 Years – ‘Buckle Up,’ Influencer Says</div>,\n",
       " <div class=\"news__item-title\">Major Bitcoin Omega Tweet Published by Samson Mow as Bitcoin Surpasses $105,000</div>,\n",
       " <div class=\"news__item-title\">Satoshi's First Collaborator Suggests Creating 'Bitcoin Mossad.' Here's Why</div>,\n",
       " <div class=\"news__item-title\">'Rich Dad Poor Dad' Author's Market Crash Warning Says: 'Billions Will Rush into Bitcoin'</div>,\n",
       " <div class=\"news__item-title\">XRP: $2 Level is At Risk,  Bitcoin's (BTC): ATH Reversal Chance, Solana (SOL) Surprised Everyone</div>,\n",
       " <div class=\"news__item-title\">Is Saylor About to Announce Another Massive Bitcoin Purchase?</div>,\n",
       " <div class=\"news__item-title\">Strategy Up 2,930% Since 2020 Bitcoin Bet as Saylor Stays Bullish</div>,\n",
       " <div class=\"news__item-title\">$100,000 Bitcoin in Danger, Bollinger Bands Warn</div>,\n",
       " <div class=\"news__item-title\">Bitcoin (BTC) Price Prediction for June 1</div>,\n",
       " <div class=\"news__item-title\">Bitcoin Price Just Made History, but What Happens Next?</div>,\n",
       " <div class=\"news__item-title\">No More Bitcoin? Exchange Outflows Show Supply Shock Possibilities</div>,\n",
       " <div class=\"news__item-title\">Silk Road Founder Now Extremely Rich Because of Recent Bitcoin Donation</div>,\n",
       " <div class=\"news__item-title\">Ripple CEO: 'Bitcoin Community Is Not Our Enemy'</div>,\n",
       " <div class=\"news__item-title\">It Will Be Exponentially Harder to Buy Bitcoin: Michael Saylor</div>,\n",
       " <div class=\"news__item-title\">Sell Bitcoin or Hold? Sobering Economic Model by Investor Fred Krueger</div>,\n",
       " <div class=\"news__item-title\">Strategy's Major Bitcoin Accumulation Risks Revealed by Analysts</div>,\n",
       " <div class=\"news__item-title\">Shiba Inu (SHIB) to Add Another Zero? Bitcoin (BTC) Signals New ATH Reversal Now, Ethereum (ETH) Trapped</div>,\n",
       " <div class=\"news__item-title\">Fidelity: Bitcoin Could Reach This 'Important Milestone'</div>,\n",
       " <div class=\"news__item-title\">JPMorgan CEO Says US Shouldn't Stockpile Bitcoin</div>,\n",
       " <div class=\"news__item-title\">XRP on Verge of 66% Crash Versus Bitcoin, Bollinger Bands Signal</div>,\n",
       " <div class=\"news__item-title\">$4 Billion Lost: Satoshi's Bitcoin Holdings Hit by Price Slump</div>,\n",
       " <div class=\"news__item-title\">VR Legend Palmer Luckey Says He Started Mining Bitcoin Early</div>,\n",
       " <div class=\"news__item-title\">$684,680,203 Bitcoin Stuns Major US Exchange Kraken: Sell in May?</div>,\n",
       " <div class=\"news__item-title\">Next 2 Days, 16 Hours Crucial for Bitcoin; Here's Why</div>,\n",
       " <div class=\"news__item-title\">Bitcoin (BTC) Price Prediction for May 30</div>,\n",
       " <div class=\"news__item-title\">20,000+ Bitcoin Bought in Just Two Days – Whales Expecting New ATH?</div>,\n",
       " <div class=\"news__item-title\">$4.26 Billion Pulled Into Bitcoin ETFs in 10 Consecutive Days</div>,\n",
       " <div class=\"news__item-title\">Bitcoin Index Shows Early Upside Signal: BTC Price Rally Next?</div>,\n",
       " <div class=\"news__item-title\">Scaramucci: Can Bitcoin Go to $500K? </div>,\n",
       " <div class=\"news__item-title\">Bitcoin Plunges to Weekly Low as FTX Set to Release $5 Billion</div>,\n",
       " <div class=\"news__item-title\">Bitcoin (BTC) 21 Million Cap Ruins Network Security, Here's How</div>,\n",
       " <div class=\"news__item-title\">Bitcoin Hits New ATH, But It's Not Price: Up $25.8 Billion</div>,\n",
       " <div class=\"news__item-title\">Bitcoin (BTC) Becomes Canary in Coal Mine: Opinion</div>,\n",
       " <div class=\"news__item-title\">Ethereum Decouples From Bitcoin as Key Metrics Turn Green</div>,\n",
       " <div class=\"news__item-title\">Bitcoin Might See $80 Billion in New Demand: Details  </div>,\n",
       " <div class=\"news__item-title\">Schiff Says He's Responsible for People Buying Bitcoin</div>,\n",
       " <div class=\"news__item-title\">Bitcoin Being Tested Right Now, Ethereum (ETH) Breaks out Against BTC, XRP: One Last Chance at $2</div>,\n",
       " <div class=\"news__item-title\">More Strategy's Bitcoin Holdings Identified by Arkham: Details</div>,\n",
       " <div class=\"news__item-title\">'Most Corrupt Bill Ever': Peter Schiff Slams Fed-Backed Bitcoin Plan  </div>,\n",
       " <div class=\"news__item-title\">Ripple CTO Ends Speculation on XRP Centralization, $878,917,974 Bitcoin Stun Coinbase, Ethereum Eyes $3,000, But One Thing Remains: Crypto News Digest by U.Today</div>,\n",
       " <div class=\"news__item-title\">Breaking: Bitcoin and XRP in 401(k)s? Labor Dept. Scraps Anti-Crypto Guidance</div>,\n",
       " <div class=\"news__item-title\">Pompliano Unveils What Big Bitcoin Bet by GameStop Really Means</div>,\n",
       " <div class=\"news__item-title\">'Bitcoin Is The Way,' Expert Tom Lee Says, Expecting Massive Price Surge</div>,\n",
       " <div class=\"news__item-title\">'Rich Dad Poor Dad' Author Predicts Bitcoin to $1 Million Amid Coming Economic Crash</div>,\n",
       " <div class=\"news__item-title\">BlackRock Reveals Ideal Bitcoin Allocation </div>,\n",
       " <div class=\"news__item-title\">Top Trader Reveals Bitcoin Price Target for June</div>,\n",
       " <div class=\"news__item-title\">$150 Million Bitcoin Transfer Stuns Major US Exchange</div>,\n",
       " <div class=\"news__item-title\">142,709,679,640 SHIB Left Coinbase Prime, Cardano ETF Deadline This Week, Strategy's $40 Billion Bitcoin Bet Just Got Bigger: Crypto News Digest by U.Today</div>,\n",
       " <div class=\"news__item-title\">Bitcoin (BTC) Price Prediction for May 27</div>,\n",
       " <div class=\"news__item-title\">Trust Wallet Launches Buy+, Powered by Binance Connect, to Simplify Crypto Access</div>,\n",
       " <div class=\"news__item-title\">2nd Annual Conversational AI &amp; Customer Experience Summit Returns to Indonesia on 24th July 2025</div>,\n",
       " <div class=\"news__item-title\">Kyvo and Optio Community Partner with HolyDeeds to Bridge Faith and Technology</div>,\n",
       " <div class=\"news__item-title\">Ethereum's Pectra: Big Guide</div>,\n",
       " <div class=\"news__item-title\">How to Buy Ethereum: Step-by-Step Guide</div>,\n",
       " <div class=\"news__item-title\">Crypto App Triv Ensures Secure Web3 Journey With Triv Shield Instrument: Review</div>,\n",
       " <div class=\"news__item-title\">Gate.io Top Crypto Exchange Makes Digital Assets Accessible: Review</div>,\n",
       " <div class=\"news__item-title\">Top Crypto Exchanges 2025: Full Guide</div>]"
      ]
     },
     "execution_count": 38,
     "metadata": {},
     "output_type": "execute_result"
    }
   ],
   "source": [
    "article_titles = soup.find_all(\"div\", attrs={\"class\": \"news__item-title\"})\n",
    "article_titles"
   ]
  },
  {
   "cell_type": "code",
   "execution_count": null,
   "id": "05e4f88e",
   "metadata": {},
   "outputs": [],
   "source": [
    "import requests\n",
    "import bs4\n",
    "\n",
    "response = requests.get(\"https://u.today/search/node?keys=bitcoin\")\n",
    "soup = bs4.BeautifulSoup(response.text, 'html.parser')\n",
    "\n",
    "article_titles = soup.find_all(\"div\", attrs={\"class\": \"news__item-title\"})\n",
    "titles = [div.get_text(strip=True) for div in article_titles]\n",
    "print(titles)"
   ]
  },
  {
   "cell_type": "code",
   "execution_count": null,
   "id": "a74a5ec1",
   "metadata": {},
   "outputs": [],
   "source": [
    "# Get the titles of articles from the search results\n",
    "titles = []\n",
    "\n",
    "for title in article_titles:\n",
    "  title = title.get_text(strip=True)\n",
    "  titles.append(title)\n",
    "\n",
    "titles"
   ]
  },
  {
   "cell_type": "code",
   "execution_count": 12,
   "id": "5d6c560f",
   "metadata": {},
   "outputs": [
    {
     "data": {
      "text/plain": [
       "58"
      ]
     },
     "execution_count": 12,
     "metadata": {},
     "output_type": "execute_result"
    }
   ],
   "source": [
    "num_results = len(titles)\n",
    "num_results"
   ]
  },
  {
   "cell_type": "code",
   "execution_count": null,
   "id": "66233768",
   "metadata": {},
   "outputs": [],
   "source": [
    "# Get the titles of articles from the search results\n",
    "titles = []\n",
    "\n",
    "for title in article_titles:\n",
    "    title = title.get_text(strip=True)\n",
    "    titles.append(title)\n",
    "\n",
    "titles"
   ]
  },
  {
   "cell_type": "code",
   "execution_count": 14,
   "id": "ee475018",
   "metadata": {},
   "outputs": [
    {
     "name": "stdout",
     "output_type": "stream",
     "text": [
      "['Jun 2, 2025 - 12:33', 'Jun 2, 2025 - 12:06', 'Jun 2, 2025 - 11:02', 'Jun 2, 2025 - 8:02', 'Jun 2, 2025 - 8:00', 'Jun 2, 2025 - 0:01', 'Jun 1, 2025 - 19:16', 'Jun 1, 2025 - 15:06', 'Jun 1, 2025 - 14:14', 'Jun 1, 2025 - 14:05', 'Jun 1, 2025 - 12:19', 'Jun 1, 2025 - 10:08', 'Jun 1, 2025 - 9:37', 'Jun 1, 2025 - 7:29', 'May 31, 2025 - 20:00', 'May 31, 2025 - 14:16', 'May 31, 2025 - 9:33', 'May 31, 2025 - 0:01', 'May 30, 2025 - 19:52', 'May 30, 2025 - 16:27', 'May 30, 2025 - 15:58', 'May 30, 2025 - 15:24', 'May 30, 2025 - 14:04', 'May 30, 2025 - 12:33', 'May 30, 2025 - 11:50', 'May 30, 2025 - 10:44', 'May 30, 2025 - 10:40', 'May 29, 2025 - 22:15', 'May 29, 2025 - 21:20', 'May 29, 2025 - 15:50', 'May 29, 2025 - 15:34', 'May 29, 2025 - 15:06', 'May 29, 2025 - 13:01', 'May 29, 2025 - 11:32', 'May 29, 2025 - 9:58', 'May 29, 2025 - 8:36', 'May 29, 2025 - 7:12', 'May 29, 2025 - 0:01', 'May 28, 2025 - 20:59', 'May 28, 2025 - 20:16', 'May 28, 2025 - 16:27', 'May 28, 2025 - 13:30', 'May 28, 2025 - 13:23', 'May 28, 2025 - 10:21', 'May 28, 2025 - 8:19', 'May 28, 2025 - 7:10', 'May 27, 2025 - 20:18', 'May 27, 2025 - 19:57', 'May 27, 2025 - 16:06', 'May 27, 2025 - 15:54', 'May 26, 2025 - 16:27', 'May 5, 2025 - 7:56', 'May 2, 2025 - 18:50', 'Apr 16, 2025 - 12:35', 'Apr 1, 2025 - 12:25']\n"
     ]
    },
    {
     "data": {
      "text/plain": [
       "['Jun 2, 2025 - 12:33',\n",
       " 'Jun 2, 2025 - 12:06',\n",
       " 'Jun 2, 2025 - 11:02',\n",
       " 'Jun 2, 2025 - 8:02',\n",
       " 'Jun 2, 2025 - 8:00',\n",
       " 'Jun 2, 2025 - 0:01',\n",
       " 'Jun 1, 2025 - 19:16',\n",
       " 'Jun 1, 2025 - 15:06',\n",
       " 'Jun 1, 2025 - 14:14',\n",
       " 'Jun 1, 2025 - 14:05',\n",
       " 'Jun 1, 2025 - 12:19',\n",
       " 'Jun 1, 2025 - 10:08',\n",
       " 'Jun 1, 2025 - 9:37',\n",
       " 'Jun 1, 2025 - 7:29',\n",
       " 'May 31, 2025 - 20:00',\n",
       " 'May 31, 2025 - 14:16',\n",
       " 'May 31, 2025 - 9:33',\n",
       " 'May 31, 2025 - 0:01',\n",
       " 'May 30, 2025 - 19:52',\n",
       " 'May 30, 2025 - 16:27',\n",
       " 'May 30, 2025 - 15:58',\n",
       " 'May 30, 2025 - 15:24',\n",
       " 'May 30, 2025 - 14:04',\n",
       " 'May 30, 2025 - 12:33',\n",
       " 'May 30, 2025 - 11:50',\n",
       " 'May 30, 2025 - 10:44',\n",
       " 'May 30, 2025 - 10:40',\n",
       " 'May 29, 2025 - 22:15',\n",
       " 'May 29, 2025 - 21:20',\n",
       " 'May 29, 2025 - 15:50',\n",
       " 'May 29, 2025 - 15:34',\n",
       " 'May 29, 2025 - 15:06',\n",
       " 'May 29, 2025 - 13:01',\n",
       " 'May 29, 2025 - 11:32',\n",
       " 'May 29, 2025 - 9:58',\n",
       " 'May 29, 2025 - 8:36',\n",
       " 'May 29, 2025 - 7:12',\n",
       " 'May 29, 2025 - 0:01',\n",
       " 'May 28, 2025 - 20:59',\n",
       " 'May 28, 2025 - 20:16',\n",
       " 'May 28, 2025 - 16:27',\n",
       " 'May 28, 2025 - 13:30',\n",
       " 'May 28, 2025 - 13:23',\n",
       " 'May 28, 2025 - 10:21',\n",
       " 'May 28, 2025 - 8:19',\n",
       " 'May 28, 2025 - 7:10',\n",
       " 'May 27, 2025 - 20:18',\n",
       " 'May 27, 2025 - 19:57',\n",
       " 'May 27, 2025 - 16:06',\n",
       " 'May 27, 2025 - 15:54',\n",
       " 'May 26, 2025 - 16:27',\n",
       " 'May 5, 2025 - 7:56',\n",
       " 'May 2, 2025 - 18:50',\n",
       " 'Apr 16, 2025 - 12:35',\n",
       " 'Apr 1, 2025 - 12:25']"
      ]
     },
     "execution_count": 14,
     "metadata": {},
     "output_type": "execute_result"
    }
   ],
   "source": [
    "# Get the dates of articles from the search results\n",
    "article_dates = soup.find_all(\"div\", attrs={\"class\": \"humble\"})\n",
    "dates = [div.get_text(strip=True) for div in article_dates]\n",
    "print(dates)\n",
    "dates"
   ]
  },
  {
   "cell_type": "code",
   "execution_count": 15,
   "id": "41c1b6c8",
   "metadata": {},
   "outputs": [
    {
     "data": {
      "text/plain": [
       "55"
      ]
     },
     "execution_count": 15,
     "metadata": {},
     "output_type": "execute_result"
    }
   ],
   "source": [
    "num_results_2 = len(dates)\n",
    "num_results_2"
   ]
  },
  {
   "cell_type": "code",
   "execution_count": 18,
   "id": "01ecd4aa",
   "metadata": {},
   "outputs": [
    {
     "name": "stdout",
     "output_type": "stream",
     "text": [
      "['Breaking: Saylor’s Strategy Makes New Bitcoin Buy, Now Holding 580,955 BTC', 'Elon Musk Brings Up Bitcoin 1st Time in 3 Years – ‘Buckle Up,’ Influencer Says', 'Major Bitcoin Omega Tweet Published by Samson Mow as Bitcoin Surpasses $105,000', \"Satoshi's First Collaborator Suggests Creating 'Bitcoin Mossad.' Here's Why\", \"'Rich Dad Poor Dad' Author's Market Crash Warning Says: 'Billions Will Rush into Bitcoin'\", \"XRP: $2 Level is At Risk,  Bitcoin's (BTC): ATH Reversal Chance, Solana (SOL) Surprised Everyone\", 'Is Saylor About to Announce Another Massive Bitcoin Purchase?', 'Strategy Up 2,930% Since 2020 Bitcoin Bet as Saylor Stays Bullish', '$100,000 Bitcoin in Danger, Bollinger Bands Warn', 'Bitcoin (BTC) Price Prediction for June 1', 'Bitcoin Price Just Made History, but What Happens Next?', 'No More Bitcoin? Exchange Outflows Show Supply Shock Possibilities', 'Silk Road Founder Now Extremely Rich Because of Recent Bitcoin Donation', \"Ripple CEO: 'Bitcoin Community Is Not Our Enemy'\", 'It Will Be Exponentially Harder to Buy Bitcoin: Michael Saylor', 'Sell Bitcoin or Hold? Sobering Economic Model by Investor Fred Krueger', \"Strategy's Major Bitcoin Accumulation Risks Revealed by Analysts\", 'Shiba Inu (SHIB) to Add Another Zero? Bitcoin (BTC) Signals New ATH Reversal Now, Ethereum (ETH) Trapped', \"Fidelity: Bitcoin Could Reach This 'Important Milestone'\", \"JPMorgan CEO Says US Shouldn't Stockpile Bitcoin\", 'XRP on Verge of 66% Crash Versus Bitcoin, Bollinger Bands Signal', \"$4 Billion Lost: Satoshi's Bitcoin Holdings Hit by Price Slump\", 'VR Legend Palmer Luckey Says He Started Mining Bitcoin Early', '$684,680,203 Bitcoin Stuns Major US Exchange Kraken: Sell in May?', \"Next 2 Days, 16 Hours Crucial for Bitcoin; Here's Why\", 'Bitcoin (BTC) Price Prediction for May 30', '20,000+ Bitcoin Bought in Just Two Days – Whales Expecting New ATH?', '$4.26 Billion Pulled Into Bitcoin ETFs in 10 Consecutive Days', 'Bitcoin Index Shows Early Upside Signal: BTC Price Rally Next?', 'Scaramucci: Can Bitcoin Go to $500K?', 'Bitcoin Plunges to Weekly Low as FTX Set to Release $5 Billion', \"Bitcoin (BTC) 21 Million Cap Ruins Network Security, Here's How\", \"Bitcoin Hits New ATH, But It's Not Price: Up $25.8 Billion\", 'Bitcoin (BTC) Becomes Canary in Coal Mine: Opinion', 'Ethereum Decouples From Bitcoin as Key Metrics Turn Green', 'Bitcoin Might See $80 Billion in New Demand: Details', \"Schiff Says He's Responsible for People Buying Bitcoin\", 'Bitcoin Being Tested Right Now, Ethereum (ETH) Breaks out Against BTC, XRP: One Last Chance at $2', \"More Strategy's Bitcoin Holdings Identified by Arkham: Details\", \"'Most Corrupt Bill Ever': Peter Schiff Slams Fed-Backed Bitcoin Plan\", 'Ripple CTO Ends Speculation on XRP Centralization, $878,917,974 Bitcoin Stun Coinbase, Ethereum Eyes $3,000, But One Thing Remains: Crypto News Digest by U.Today', 'Breaking: Bitcoin and XRP in 401(k)s? Labor Dept. Scraps Anti-Crypto Guidance', 'Pompliano Unveils What Big Bitcoin Bet by GameStop Really Means', \"'Bitcoin Is The Way,' Expert Tom Lee Says, Expecting Massive Price Surge\", \"'Rich Dad Poor Dad' Author Predicts Bitcoin to $1 Million Amid Coming Economic Crash\", 'BlackRock Reveals Ideal Bitcoin Allocation', 'Top Trader Reveals Bitcoin Price Target for June', '$150 Million Bitcoin Transfer Stuns Major US Exchange', \"142,709,679,640 SHIB Left Coinbase Prime, Cardano ETF Deadline This Week, Strategy's $40 Billion Bitcoin Bet Just Got Bigger: Crypto News Digest by U.Today\", 'Bitcoin (BTC) Price Prediction for May 27']\n"
     ]
    }
   ],
   "source": [
    "# Get the titles of articles from the search results only\n",
    "search_result_div = soup.find(\"div\", class_=\"search-result\")\n",
    "if search_result_div:\n",
    "    titles_in_search = [div.get_text(strip=True) for div in search_result_div.find_all(\"div\", class_=\"news__item-title\")]\n",
    "    print(titles_in_search)\n",
    "else:\n",
    "    print(\"No search results div found.\")"
   ]
  },
  {
   "cell_type": "code",
   "execution_count": 27,
   "id": "1df50fee",
   "metadata": {},
   "outputs": [
    {
     "data": {
      "text/plain": [
       "['Breaking: Saylor’s Strategy Makes New Bitcoin Buy, Now Holding 580,955 BTC',\n",
       " 'Elon Musk Brings Up Bitcoin 1st Time in 3 Years – ‘Buckle Up,’ Influencer Says',\n",
       " 'Major Bitcoin Omega Tweet Published by Samson Mow as Bitcoin Surpasses $105,000',\n",
       " \"Satoshi's First Collaborator Suggests Creating 'Bitcoin Mossad.' Here's Why\",\n",
       " \"'Rich Dad Poor Dad' Author's Market Crash Warning Says: 'Billions Will Rush into Bitcoin'\",\n",
       " \"XRP: $2 Level is At Risk,  Bitcoin's (BTC): ATH Reversal Chance, Solana (SOL) Surprised Everyone\",\n",
       " 'Is Saylor About to Announce Another Massive Bitcoin Purchase?',\n",
       " 'Strategy Up 2,930% Since 2020 Bitcoin Bet as Saylor Stays Bullish',\n",
       " '$100,000 Bitcoin in Danger, Bollinger Bands Warn',\n",
       " 'Bitcoin (BTC) Price Prediction for June 1',\n",
       " 'Bitcoin Price Just Made History, but What Happens Next?',\n",
       " 'No More Bitcoin? Exchange Outflows Show Supply Shock Possibilities',\n",
       " 'Silk Road Founder Now Extremely Rich Because of Recent Bitcoin Donation',\n",
       " \"Ripple CEO: 'Bitcoin Community Is Not Our Enemy'\",\n",
       " 'It Will Be Exponentially Harder to Buy Bitcoin: Michael Saylor',\n",
       " 'Sell Bitcoin or Hold? Sobering Economic Model by Investor Fred Krueger',\n",
       " \"Strategy's Major Bitcoin Accumulation Risks Revealed by Analysts\",\n",
       " 'Shiba Inu (SHIB) to Add Another Zero? Bitcoin (BTC) Signals New ATH Reversal Now, Ethereum (ETH) Trapped',\n",
       " \"Fidelity: Bitcoin Could Reach This 'Important Milestone'\",\n",
       " \"JPMorgan CEO Says US Shouldn't Stockpile Bitcoin\",\n",
       " 'XRP on Verge of 66% Crash Versus Bitcoin, Bollinger Bands Signal',\n",
       " \"$4 Billion Lost: Satoshi's Bitcoin Holdings Hit by Price Slump\",\n",
       " 'VR Legend Palmer Luckey Says He Started Mining Bitcoin Early',\n",
       " '$684,680,203 Bitcoin Stuns Major US Exchange Kraken: Sell in May?',\n",
       " \"Next 2 Days, 16 Hours Crucial for Bitcoin; Here's Why\",\n",
       " 'Bitcoin (BTC) Price Prediction for May 30',\n",
       " '20,000+ Bitcoin Bought in Just Two Days – Whales Expecting New ATH?',\n",
       " '$4.26 Billion Pulled Into Bitcoin ETFs in 10 Consecutive Days',\n",
       " 'Bitcoin Index Shows Early Upside Signal: BTC Price Rally Next?',\n",
       " 'Scaramucci: Can Bitcoin Go to $500K?',\n",
       " 'Bitcoin Plunges to Weekly Low as FTX Set to Release $5 Billion',\n",
       " \"Bitcoin (BTC) 21 Million Cap Ruins Network Security, Here's How\",\n",
       " \"Bitcoin Hits New ATH, But It's Not Price: Up $25.8 Billion\",\n",
       " 'Bitcoin (BTC) Becomes Canary in Coal Mine: Opinion',\n",
       " 'Ethereum Decouples From Bitcoin as Key Metrics Turn Green',\n",
       " 'Bitcoin Might See $80 Billion in New Demand: Details',\n",
       " \"Schiff Says He's Responsible for People Buying Bitcoin\",\n",
       " 'Bitcoin Being Tested Right Now, Ethereum (ETH) Breaks out Against BTC, XRP: One Last Chance at $2',\n",
       " \"More Strategy's Bitcoin Holdings Identified by Arkham: Details\",\n",
       " \"'Most Corrupt Bill Ever': Peter Schiff Slams Fed-Backed Bitcoin Plan\",\n",
       " 'Ripple CTO Ends Speculation on XRP Centralization, $878,917,974 Bitcoin Stun Coinbase, Ethereum Eyes $3,000, But One Thing Remains: Crypto News Digest by U.Today',\n",
       " 'Breaking: Bitcoin and XRP in 401(k)s? Labor Dept. Scraps Anti-Crypto Guidance',\n",
       " 'Pompliano Unveils What Big Bitcoin Bet by GameStop Really Means',\n",
       " \"'Bitcoin Is The Way,' Expert Tom Lee Says, Expecting Massive Price Surge\",\n",
       " \"'Rich Dad Poor Dad' Author Predicts Bitcoin to $1 Million Amid Coming Economic Crash\",\n",
       " 'BlackRock Reveals Ideal Bitcoin Allocation',\n",
       " 'Top Trader Reveals Bitcoin Price Target for June',\n",
       " '$150 Million Bitcoin Transfer Stuns Major US Exchange',\n",
       " \"142,709,679,640 SHIB Left Coinbase Prime, Cardano ETF Deadline This Week, Strategy's $40 Billion Bitcoin Bet Just Got Bigger: Crypto News Digest by U.Today\",\n",
       " 'Bitcoin (BTC) Price Prediction for May 27']"
      ]
     },
     "execution_count": 27,
     "metadata": {},
     "output_type": "execute_result"
    }
   ],
   "source": [
    "# Return the variable 'titles' as a list\n",
    "titles_in_search"
   ]
  },
  {
   "cell_type": "code",
   "execution_count": 30,
   "id": "0786f9c5",
   "metadata": {},
   "outputs": [
    {
     "data": {
      "text/plain": [
       "50"
      ]
     },
     "execution_count": 30,
     "metadata": {},
     "output_type": "execute_result"
    }
   ],
   "source": [
    "num_results_3 = len(titles_in_search)\n",
    "num_results_3"
   ]
  },
  {
   "cell_type": "code",
   "execution_count": 33,
   "id": "302cd1d5",
   "metadata": {},
   "outputs": [
    {
     "name": "stdout",
     "output_type": "stream",
     "text": [
      "['Jun 2, 2025 - 12:33', 'Jun 2, 2025 - 12:06', 'Jun 2, 2025 - 11:02', 'Jun 2, 2025 - 8:02', 'Jun 2, 2025 - 8:00', 'Jun 2, 2025 - 0:01', 'Jun 1, 2025 - 19:16', 'Jun 1, 2025 - 15:06', 'Jun 1, 2025 - 14:14', 'Jun 1, 2025 - 14:05', 'Jun 1, 2025 - 12:19', 'Jun 1, 2025 - 10:08', 'Jun 1, 2025 - 9:37', 'Jun 1, 2025 - 7:29', 'May 31, 2025 - 20:00', 'May 31, 2025 - 14:16', 'May 31, 2025 - 9:33', 'May 31, 2025 - 0:01', 'May 30, 2025 - 19:52', 'May 30, 2025 - 16:27', 'May 30, 2025 - 15:58', 'May 30, 2025 - 15:24', 'May 30, 2025 - 14:04', 'May 30, 2025 - 12:33', 'May 30, 2025 - 11:50', 'May 30, 2025 - 10:44', 'May 30, 2025 - 10:40', 'May 29, 2025 - 22:15', 'May 29, 2025 - 21:20', 'May 29, 2025 - 15:50', 'May 29, 2025 - 15:34', 'May 29, 2025 - 15:06', 'May 29, 2025 - 13:01', 'May 29, 2025 - 11:32', 'May 29, 2025 - 9:58', 'May 29, 2025 - 8:36', 'May 29, 2025 - 7:12', 'May 29, 2025 - 0:01', 'May 28, 2025 - 20:59', 'May 28, 2025 - 20:16', 'May 28, 2025 - 16:27', 'May 28, 2025 - 13:30', 'May 28, 2025 - 13:23', 'May 28, 2025 - 10:21', 'May 28, 2025 - 8:19', 'May 28, 2025 - 7:10', 'May 27, 2025 - 20:18', 'May 27, 2025 - 19:57', 'May 27, 2025 - 16:06', 'May 27, 2025 - 15:54']\n"
     ]
    }
   ],
   "source": [
    "# Get the dates of articles from the search results only\n",
    "search_result_div = soup.find(\"div\", class_=\"search-result\")\n",
    "if search_result_div:\n",
    "    dates_in_search = [div.get_text(strip=True) for div in search_result_div.find_all(\"div\", class_=\"humble\")]\n",
    "    print(dates_in_search)\n",
    "else:\n",
    "    print(\"No search results div found.\")"
   ]
  },
  {
   "cell_type": "code",
   "execution_count": 34,
   "id": "330ff717",
   "metadata": {},
   "outputs": [
    {
     "data": {
      "text/plain": [
       "58"
      ]
     },
     "execution_count": 34,
     "metadata": {},
     "output_type": "execute_result"
    }
   ],
   "source": [
    "num_results_4 = len(dates_in_search)\n",
    "num_results"
   ]
  },
  {
   "cell_type": "code",
   "execution_count": 46,
   "id": "7d2a7d9e",
   "metadata": {},
   "outputs": [
    {
     "name": "stdout",
     "output_type": "stream",
     "text": [
      "['Breaking: Saylor’s Strategy Makes New Bitcoin Buy, Now Holding 580,955 BTC']\n",
      "['Jun 2, 2025 - 12:33']\n"
     ]
    }
   ],
   "source": [
    "import requests\n",
    "import bs4\n",
    "import pandas as pd\n",
    "\n",
    "response = requests.get(\"https://u.today/search/node?keys=bitcoin\")\n",
    "soup = bs4.BeautifulSoup(response.text, 'html.parser')\n",
    "\n",
    "# Find all article containers (adjust the selector if needed)\n",
    "articles = soup.find_all(\"div\", class_=\"search-result\")\n",
    "\n",
    "titles = []\n",
    "dates = []\n",
    "\n",
    "for article in articles:\n",
    "    title_div = article.find(\"div\", class_=\"news__item-title\")\n",
    "    date_div = article.find(\"div\", class_=\"humble\")\n",
    "    if title_div and date_div:\n",
    "        titles.append(title_div.get_text(strip=True))\n",
    "        dates.append(date_div.get_text(strip=True))\n",
    "\n",
    "print(titles)\n",
    "print(dates)\n",
    "# Create a DataFrame from the titles and dates\n",
    "df = pd.DataFrame({\n",
    "    'Title': titles,\n",
    "    'Date': dates\n",
    "})"
   ]
  }
 ],
 "metadata": {
  "kernelspec": {
   "display_name": "base",
   "language": "python",
   "name": "python3"
  },
  "language_info": {
   "codemirror_mode": {
    "name": "ipython",
    "version": 3
   },
   "file_extension": ".py",
   "mimetype": "text/x-python",
   "name": "python",
   "nbconvert_exporter": "python",
   "pygments_lexer": "ipython3",
   "version": "3.12.7"
  }
 },
 "nbformat": 4,
 "nbformat_minor": 5
}
