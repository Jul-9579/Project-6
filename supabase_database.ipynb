{
 "cells": [
  {
   "cell_type": "code",
   "execution_count": null,
   "id": "7effdfd5",
   "metadata": {},
   "outputs": [],
   "source": [
    "from dotenv import load_dotenv\n",
    "import os\n",
    "load_dotenv()\n",
    "\n",
    "dbconn = os.getenv(\"DBCONN\")"
   ]
  },
  {
   "cell_type": "code",
   "execution_count": 3,
   "id": "18d20207",
   "metadata": {},
   "outputs": [
    {
     "name": "stdout",
     "output_type": "stream",
     "text": [
      "Requirement already satisfied: psycopg[binary] in c:\\users\\raclo\\anaconda\\lib\\site-packages (3.2.7)\n",
      "Requirement already satisfied: typing-extensions>=4.6 in c:\\users\\raclo\\anaconda\\lib\\site-packages (from psycopg[binary]) (4.11.0)\n",
      "Collecting psycopg-binary==3.2.7 (from psycopg[binary])\n",
      "  Downloading psycopg_binary-3.2.7-cp312-cp312-win_amd64.whl.metadata (2.9 kB)\n",
      "Downloading psycopg_binary-3.2.7-cp312-cp312-win_amd64.whl (2.9 MB)\n",
      "   ---------------------------------------- 0.0/2.9 MB ? eta -:--:--\n",
      "   ---------------------------------------- 2.9/2.9 MB 28.3 MB/s eta 0:00:00\n",
      "Installing collected packages: psycopg-binary\n",
      "Successfully installed psycopg-binary-3.2.7\n",
      "Note: you may need to restart the kernel to use updated packages.\n"
     ]
    }
   ],
   "source": [
    "pip install \"psycopg[binary]\" \n"
   ]
  },
  {
   "cell_type": "code",
   "execution_count": 4,
   "id": "b694d8e5",
   "metadata": {},
   "outputs": [
    {
     "name": "stdout",
     "output_type": "stream",
     "text": [
      "Requirement already satisfied: psycopg in c:\\users\\raclo\\anaconda\\lib\\site-packages (3.2.7)\n",
      "Requirement already satisfied: typing-extensions>=4.6 in c:\\users\\raclo\\anaconda\\lib\\site-packages (from psycopg) (4.11.0)\n",
      "Note: you may need to restart the kernel to use updated packages.\n"
     ]
    }
   ],
   "source": [
    "%pip install psycopg"
   ]
  },
  {
   "cell_type": "code",
   "execution_count": 26,
   "id": "44dd7abb",
   "metadata": {},
   "outputs": [
    {
     "ename": "AttributeError",
     "evalue": "'NoneType' object has no attribute 'encode'",
     "output_type": "error",
     "traceback": [
      "\u001b[1;31m---------------------------------------------------------------------------\u001b[0m",
      "\u001b[1;31mAttributeError\u001b[0m                            Traceback (most recent call last)",
      "Cell \u001b[1;32mIn[26], line 4\u001b[0m\n\u001b[0;32m      1\u001b[0m \u001b[38;5;28;01mimport\u001b[39;00m \u001b[38;5;21;01mpsycopg\u001b[39;00m\n\u001b[0;32m      3\u001b[0m \u001b[38;5;66;03m# establish a connection to the database\u001b[39;00m\n\u001b[1;32m----> 4\u001b[0m conn \u001b[38;5;241m=\u001b[39m psycopg\u001b[38;5;241m.\u001b[39mconnect(dbconn)\n\u001b[0;32m      6\u001b[0m \u001b[38;5;66;03m# or use the connection string directly\u001b[39;00m\n\u001b[0;32m      7\u001b[0m \u001b[38;5;66;03m# create a cursor object\u001b[39;00m\n\u001b[0;32m      8\u001b[0m cur \u001b[38;5;241m=\u001b[39m conn\u001b[38;5;241m.\u001b[39mcursor()\n",
      "File \u001b[1;32mc:\\Users\\raclo\\anaconda\\Lib\\site-packages\\psycopg\\connection.py:93\u001b[0m, in \u001b[0;36mConnection.connect\u001b[1;34m(cls, conninfo, autocommit, prepare_threshold, context, row_factory, cursor_factory, **kwargs)\u001b[0m\n\u001b[0;32m     77\u001b[0m \u001b[38;5;129m@classmethod\u001b[39m\n\u001b[0;32m     78\u001b[0m \u001b[38;5;28;01mdef\u001b[39;00m \u001b[38;5;21mconnect\u001b[39m(\n\u001b[0;32m     79\u001b[0m     \u001b[38;5;28mcls\u001b[39m,\n\u001b[1;32m   (...)\u001b[0m\n\u001b[0;32m     87\u001b[0m     \u001b[38;5;241m*\u001b[39m\u001b[38;5;241m*\u001b[39mkwargs: ConnParam,\n\u001b[0;32m     88\u001b[0m ) \u001b[38;5;241m-\u001b[39m\u001b[38;5;241m>\u001b[39m Self:\n\u001b[0;32m     89\u001b[0m \u001b[38;5;250m    \u001b[39m\u001b[38;5;124;03m\"\"\"\u001b[39;00m\n\u001b[0;32m     90\u001b[0m \u001b[38;5;124;03m    Connect to a database server and return a new `Connection` instance.\u001b[39;00m\n\u001b[0;32m     91\u001b[0m \u001b[38;5;124;03m    \"\"\"\u001b[39;00m\n\u001b[1;32m---> 93\u001b[0m     params \u001b[38;5;241m=\u001b[39m \u001b[38;5;28mcls\u001b[39m\u001b[38;5;241m.\u001b[39m_get_connection_params(conninfo, \u001b[38;5;241m*\u001b[39m\u001b[38;5;241m*\u001b[39mkwargs)\n\u001b[0;32m     94\u001b[0m     timeout \u001b[38;5;241m=\u001b[39m timeout_from_conninfo(params)\n\u001b[0;32m     95\u001b[0m     rv \u001b[38;5;241m=\u001b[39m \u001b[38;5;28;01mNone\u001b[39;00m\n",
      "File \u001b[1;32mc:\\Users\\raclo\\anaconda\\Lib\\site-packages\\psycopg\\connection.py:158\u001b[0m, in \u001b[0;36mConnection._get_connection_params\u001b[1;34m(cls, conninfo, **kwargs)\u001b[0m\n\u001b[0;32m    155\u001b[0m \u001b[38;5;129m@classmethod\u001b[39m\n\u001b[0;32m    156\u001b[0m \u001b[38;5;28;01mdef\u001b[39;00m \u001b[38;5;21m_get_connection_params\u001b[39m(\u001b[38;5;28mcls\u001b[39m, conninfo: \u001b[38;5;28mstr\u001b[39m, \u001b[38;5;241m*\u001b[39m\u001b[38;5;241m*\u001b[39mkwargs: Any) \u001b[38;5;241m-\u001b[39m\u001b[38;5;241m>\u001b[39m ConnDict:\n\u001b[0;32m    157\u001b[0m \u001b[38;5;250m    \u001b[39m\u001b[38;5;124;03m\"\"\"Manipulate connection parameters before connecting.\"\"\"\u001b[39;00m\n\u001b[1;32m--> 158\u001b[0m     \u001b[38;5;28;01mreturn\u001b[39;00m conninfo_to_dict(conninfo, \u001b[38;5;241m*\u001b[39m\u001b[38;5;241m*\u001b[39mkwargs)\n",
      "File \u001b[1;32mc:\\Users\\raclo\\anaconda\\Lib\\site-packages\\psycopg\\conninfo.py:82\u001b[0m, in \u001b[0;36mconninfo_to_dict\u001b[1;34m(conninfo, **kwargs)\u001b[0m\n\u001b[0;32m     67\u001b[0m \u001b[38;5;28;01mdef\u001b[39;00m \u001b[38;5;21mconninfo_to_dict\u001b[39m(conninfo: \u001b[38;5;28mstr\u001b[39m \u001b[38;5;241m=\u001b[39m \u001b[38;5;124m\"\u001b[39m\u001b[38;5;124m\"\u001b[39m, \u001b[38;5;241m*\u001b[39m\u001b[38;5;241m*\u001b[39mkwargs: ConnParam) \u001b[38;5;241m-\u001b[39m\u001b[38;5;241m>\u001b[39m ConnDict:\n\u001b[0;32m     68\u001b[0m \u001b[38;5;250m    \u001b[39m\u001b[38;5;124;03m\"\"\"\u001b[39;00m\n\u001b[0;32m     69\u001b[0m \u001b[38;5;124;03m    Convert the `!conninfo` string into a dictionary of parameters.\u001b[39;00m\n\u001b[0;32m     70\u001b[0m \n\u001b[1;32m   (...)\u001b[0m\n\u001b[0;32m     80\u001b[0m \u001b[38;5;124;03m           #LIBPQ-CONNSTRING\u001b[39;00m\n\u001b[0;32m     81\u001b[0m \u001b[38;5;124;03m    \"\"\"\u001b[39;00m\n\u001b[1;32m---> 82\u001b[0m     opts \u001b[38;5;241m=\u001b[39m _parse_conninfo(conninfo)\n\u001b[0;32m     83\u001b[0m     rv: ConnDict \u001b[38;5;241m=\u001b[39m {\n\u001b[0;32m     84\u001b[0m         opt\u001b[38;5;241m.\u001b[39mkeyword\u001b[38;5;241m.\u001b[39mdecode(): opt\u001b[38;5;241m.\u001b[39mval\u001b[38;5;241m.\u001b[39mdecode() \u001b[38;5;28;01mfor\u001b[39;00m opt \u001b[38;5;129;01min\u001b[39;00m opts \u001b[38;5;28;01mif\u001b[39;00m opt\u001b[38;5;241m.\u001b[39mval \u001b[38;5;129;01mis\u001b[39;00m \u001b[38;5;129;01mnot\u001b[39;00m \u001b[38;5;28;01mNone\u001b[39;00m\n\u001b[0;32m     85\u001b[0m     }\n\u001b[0;32m     86\u001b[0m     \u001b[38;5;28;01mfor\u001b[39;00m k, v \u001b[38;5;129;01min\u001b[39;00m kwargs\u001b[38;5;241m.\u001b[39mitems():\n",
      "File \u001b[1;32mc:\\Users\\raclo\\anaconda\\Lib\\site-packages\\psycopg\\conninfo.py:101\u001b[0m, in \u001b[0;36m_parse_conninfo\u001b[1;34m(conninfo)\u001b[0m\n\u001b[0;32m     93\u001b[0m \u001b[38;5;250m\u001b[39m\u001b[38;5;124;03m\"\"\"\u001b[39;00m\n\u001b[0;32m     94\u001b[0m \u001b[38;5;124;03mVerify that `!conninfo` is a valid connection string.\u001b[39;00m\n\u001b[0;32m     95\u001b[0m \n\u001b[1;32m   (...)\u001b[0m\n\u001b[0;32m     98\u001b[0m \u001b[38;5;124;03mReturn the result of pq.Conninfo.parse() on success.\u001b[39;00m\n\u001b[0;32m     99\u001b[0m \u001b[38;5;124;03m\"\"\"\u001b[39;00m\n\u001b[0;32m    100\u001b[0m \u001b[38;5;28;01mtry\u001b[39;00m:\n\u001b[1;32m--> 101\u001b[0m     \u001b[38;5;28;01mreturn\u001b[39;00m pq\u001b[38;5;241m.\u001b[39mConninfo\u001b[38;5;241m.\u001b[39mparse(conninfo\u001b[38;5;241m.\u001b[39mencode())\n\u001b[0;32m    102\u001b[0m \u001b[38;5;28;01mexcept\u001b[39;00m e\u001b[38;5;241m.\u001b[39mOperationalError \u001b[38;5;28;01mas\u001b[39;00m ex:\n\u001b[0;32m    103\u001b[0m     \u001b[38;5;28;01mraise\u001b[39;00m e\u001b[38;5;241m.\u001b[39mProgrammingError(\u001b[38;5;28mstr\u001b[39m(ex)) \u001b[38;5;28;01mfrom\u001b[39;00m \u001b[38;5;28;01mNone\u001b[39;00m\n",
      "\u001b[1;31mAttributeError\u001b[0m: 'NoneType' object has no attribute 'encode'"
     ]
    }
   ],
   "source": [
    "import psycopg\n",
    "\n",
    "# establish a connection to the database\n",
    "conn = psycopg.connect(dbconn)\n",
    "\n",
    "# or use the connection string directly\n",
    "# create a cursor object\n",
    "cur = conn.cursor()"
   ]
  },
  {
   "cell_type": "code",
   "execution_count": null,
   "id": "104ac306",
   "metadata": {},
   "outputs": [],
   "source": [
    "# Create a table for the stock market data\n",
    "def create_table():\n",
    "    conn = psycopg.connect(dbconn)\n",
    "    cur = conn.cursor()\n",
    "    cur.execute(\n",
    "        '''\n",
    "            CREATE TABLE IF NOT EXISTS api_data(\n",
    "                date TIMESTAMP PRIMARY KEY,\n",
    "                open FLOAT,\n",
    "                high FLOAT,\n",
    "                low FLOAT,\n",
    "                close FLOAT,\n",
    "                volume FLOAT\n",
    "                            );\n",
    "        '''\n",
    "    )\n",
    "    conn.commit()\n",
    "    cur.close()\n",
    "    conn.close()\n",
    "\n",
    "create_table()\n"
   ]
  },
  {
   "cell_type": "code",
   "execution_count": null,
   "id": "74473037",
   "metadata": {},
   "outputs": [],
   "source": [
    "# Create a table for the article data\n",
    "def create_article_table():\n",
    "    conn = psycopg.connect(dbconn)\n",
    "    cur = conn.cursor()\n",
    "    cur.execute(\n",
    "        '''\n",
    "            CREATE TABLE IF NOT EXISTS article_data(\n",
    "                date TIMESTAMP PRIMARY KEY,\n",
    "                title TEXT,\n",
    "                author TEXT,\n",
    "                link TEXT\n",
    "            );\n",
    "        '''\n",
    "    )\n",
    "    conn.commit()\n",
    "    cur.close()\n",
    "    conn.close()\n",
    "\n",
    "create_article_table()"
   ]
  },
  {
   "cell_type": "code",
   "execution_count": null,
   "id": "e158d02a",
   "metadata": {},
   "outputs": [],
   "source": [
    "import pandas as pd\n",
    "\n",
    "btc_df = pd.read_csv('btc_prices.csv')\n",
    "btc_df.head()"
   ]
  },
  {
   "cell_type": "code",
   "execution_count": 20,
   "id": "ea7f31be",
   "metadata": {},
   "outputs": [
    {
     "ename": "NameError",
     "evalue": "name 'btc_df' is not defined",
     "output_type": "error",
     "traceback": [
      "\u001b[1;31m---------------------------------------------------------------------------\u001b[0m",
      "\u001b[1;31mNameError\u001b[0m                                 Traceback (most recent call last)",
      "Cell \u001b[1;32mIn[20], line 32\u001b[0m\n\u001b[0;32m     29\u001b[0m     conn\u001b[38;5;241m.\u001b[39mclose()\n\u001b[0;32m     31\u001b[0m \u001b[38;5;66;03m# Then call it like this:\u001b[39;00m\n\u001b[1;32m---> 32\u001b[0m insert_stock_data_from_df(btc_df)\n",
      "\u001b[1;31mNameError\u001b[0m: name 'btc_df' is not defined"
     ]
    }
   ],
   "source": [
    "# Insert stock price data to the supabase table\n",
    "\n",
    "from datetime import datetime\n",
    "import psycopg\n",
    "import pandas as pd\n",
    "\n",
    "def insert_stock_data_from_df(df):\n",
    "    conn = psycopg.connect(dbconn)\n",
    "    cur = conn.cursor()\n",
    "\n",
    "    for _, row in df.iterrows():\n",
    "        # Convert date to datetime if needed\n",
    "        if isinstance(row['date'], str):\n",
    "            date_obj = datetime.strptime(row['date'], \"%Y-%m-%d\")\n",
    "        else:\n",
    "            date_obj = pd.to_datetime(row['date'])\n",
    "\n",
    "        cur.execute(\n",
    "            '''\n",
    "            INSERT INTO api_data (date, open, high, low, close, volume)\n",
    "            VALUES (%s, %s, %s, %s, %s, %s)\n",
    "            ON CONFLICT (date) DO NOTHING;\n",
    "            ''',\n",
    "            (date_obj, row['open'], row['high'], row['low'], row['close'], row['volume'])\n",
    "        )\n",
    "\n",
    "    conn.commit()\n",
    "    cur.close()\n",
    "    conn.close()\n",
    "\n",
    "# Then call it like this:\n",
    "insert_stock_data_from_df(btc_df)\n"
   ]
  },
  {
   "cell_type": "markdown",
   "id": "af76f683",
   "metadata": {},
   "source": [
    "## Articles Database"
   ]
  },
  {
   "cell_type": "code",
   "execution_count": 21,
   "id": "b445e29b",
   "metadata": {},
   "outputs": [
    {
     "data": {
      "text/html": [
       "<div>\n",
       "<style scoped>\n",
       "    .dataframe tbody tr th:only-of-type {\n",
       "        vertical-align: middle;\n",
       "    }\n",
       "\n",
       "    .dataframe tbody tr th {\n",
       "        vertical-align: top;\n",
       "    }\n",
       "\n",
       "    .dataframe thead th {\n",
       "        text-align: right;\n",
       "    }\n",
       "</style>\n",
       "<table border=\"1\" class=\"dataframe\">\n",
       "  <thead>\n",
       "    <tr style=\"text-align: right;\">\n",
       "      <th></th>\n",
       "      <th>date</th>\n",
       "      <th>title</th>\n",
       "      <th>author</th>\n",
       "      <th>link</th>\n",
       "    </tr>\n",
       "  </thead>\n",
       "  <tbody>\n",
       "    <tr>\n",
       "      <th>0</th>\n",
       "      <td>Jun 3, 2025 - 8:26</td>\n",
       "      <td>Tether Moves $1,107,371,328 Bitcoin, CEO Break...</td>\n",
       "      <td>Gamza Khanzadaev</td>\n",
       "      <td>https://u.today/tether-moves-1107371328-bitcoi...</td>\n",
       "    </tr>\n",
       "    <tr>\n",
       "      <th>1</th>\n",
       "      <td>Jun 3, 2025 - 7:29</td>\n",
       "      <td>Gold Copying Bitcoin’s Breakout Trajectory: Le...</td>\n",
       "      <td>Yuri Molchan</td>\n",
       "      <td>https://u.today/gold-copying-bitcoins-breakout...</td>\n",
       "    </tr>\n",
       "    <tr>\n",
       "      <th>2</th>\n",
       "      <td>Jun 3, 2025 - 6:04</td>\n",
       "      <td>Bitcoin ETFs: SEC Commissioner Says Agency to ...</td>\n",
       "      <td>Alex Dovbnya</td>\n",
       "      <td>https://u.today/bitcoin-etfs-sec-commissioner-...</td>\n",
       "    </tr>\n",
       "    <tr>\n",
       "      <th>3</th>\n",
       "      <td>Jun 3, 2025 - 1:13</td>\n",
       "      <td>$5.86 Billion In Bitcoin Flows Into ETFs In May</td>\n",
       "      <td>Caroline Amosun</td>\n",
       "      <td>https://u.today/586-billion-in-bitcoin-flows-i...</td>\n",
       "    </tr>\n",
       "    <tr>\n",
       "      <th>4</th>\n",
       "      <td>Jun 2, 2025 - 23:43</td>\n",
       "      <td>Strategy to Boost Bitcoin (BTC) Acquisitions w...</td>\n",
       "      <td>Paul Adedoyin</td>\n",
       "      <td>https://u.today/strategy-to-boost-bitcoin-btc-...</td>\n",
       "    </tr>\n",
       "  </tbody>\n",
       "</table>\n",
       "</div>"
      ],
      "text/plain": [
       "                  date                                              title  \\\n",
       "0   Jun 3, 2025 - 8:26  Tether Moves $1,107,371,328 Bitcoin, CEO Break...   \n",
       "1   Jun 3, 2025 - 7:29  Gold Copying Bitcoin’s Breakout Trajectory: Le...   \n",
       "2   Jun 3, 2025 - 6:04  Bitcoin ETFs: SEC Commissioner Says Agency to ...   \n",
       "3   Jun 3, 2025 - 1:13    $5.86 Billion In Bitcoin Flows Into ETFs In May   \n",
       "4  Jun 2, 2025 - 23:43  Strategy to Boost Bitcoin (BTC) Acquisitions w...   \n",
       "\n",
       "             author                                               link  \n",
       "0  Gamza Khanzadaev  https://u.today/tether-moves-1107371328-bitcoi...  \n",
       "1      Yuri Molchan  https://u.today/gold-copying-bitcoins-breakout...  \n",
       "2      Alex Dovbnya  https://u.today/bitcoin-etfs-sec-commissioner-...  \n",
       "3   Caroline Amosun  https://u.today/586-billion-in-bitcoin-flows-i...  \n",
       "4     Paul Adedoyin  https://u.today/strategy-to-boost-bitcoin-btc-...  "
      ]
     },
     "execution_count": 21,
     "metadata": {},
     "output_type": "execute_result"
    }
   ],
   "source": [
    "import pandas as pd\n",
    "article_df = pd.read_csv('u_today_articles.csv')\n",
    "article_df.head()"
   ]
  },
  {
   "cell_type": "code",
   "execution_count": null,
   "id": "a409055f",
   "metadata": {},
   "outputs": [
    {
     "ename": "AttributeError",
     "evalue": "'NoneType' object has no attribute 'encode'",
     "output_type": "error",
     "traceback": [
      "\u001b[1;31m---------------------------------------------------------------------------\u001b[0m",
      "\u001b[1;31mAttributeError\u001b[0m                            Traceback (most recent call last)",
      "Cell \u001b[1;32mIn[22], line 32\u001b[0m\n\u001b[0;32m     29\u001b[0m     cur\u001b[38;5;241m.\u001b[39mclose()\n\u001b[0;32m     30\u001b[0m     conn\u001b[38;5;241m.\u001b[39mclose()\n\u001b[1;32m---> 32\u001b[0m insert_article_data_from_df(article_df)\n",
      "Cell \u001b[1;32mIn[22], line 5\u001b[0m, in \u001b[0;36minsert_article_data_from_df\u001b[1;34m(df)\u001b[0m\n\u001b[0;32m      4\u001b[0m \u001b[38;5;28;01mdef\u001b[39;00m \u001b[38;5;21minsert_article_data_from_df\u001b[39m(df):\n\u001b[1;32m----> 5\u001b[0m     conn \u001b[38;5;241m=\u001b[39m psycopg\u001b[38;5;241m.\u001b[39mconnect(dbconn)\n\u001b[0;32m      6\u001b[0m     cur \u001b[38;5;241m=\u001b[39m conn\u001b[38;5;241m.\u001b[39mcursor()\n\u001b[0;32m      8\u001b[0m     \u001b[38;5;28;01mfor\u001b[39;00m _, row \u001b[38;5;129;01min\u001b[39;00m df\u001b[38;5;241m.\u001b[39miterrows():\n\u001b[0;32m      9\u001b[0m         \u001b[38;5;66;03m# Convert date to datetime if needed\u001b[39;00m\n",
      "File \u001b[1;32mc:\\Users\\raclo\\anaconda\\Lib\\site-packages\\psycopg\\connection.py:93\u001b[0m, in \u001b[0;36mConnection.connect\u001b[1;34m(cls, conninfo, autocommit, prepare_threshold, context, row_factory, cursor_factory, **kwargs)\u001b[0m\n\u001b[0;32m     77\u001b[0m \u001b[38;5;129m@classmethod\u001b[39m\n\u001b[0;32m     78\u001b[0m \u001b[38;5;28;01mdef\u001b[39;00m \u001b[38;5;21mconnect\u001b[39m(\n\u001b[0;32m     79\u001b[0m     \u001b[38;5;28mcls\u001b[39m,\n\u001b[1;32m   (...)\u001b[0m\n\u001b[0;32m     87\u001b[0m     \u001b[38;5;241m*\u001b[39m\u001b[38;5;241m*\u001b[39mkwargs: ConnParam,\n\u001b[0;32m     88\u001b[0m ) \u001b[38;5;241m-\u001b[39m\u001b[38;5;241m>\u001b[39m Self:\n\u001b[0;32m     89\u001b[0m \u001b[38;5;250m    \u001b[39m\u001b[38;5;124;03m\"\"\"\u001b[39;00m\n\u001b[0;32m     90\u001b[0m \u001b[38;5;124;03m    Connect to a database server and return a new `Connection` instance.\u001b[39;00m\n\u001b[0;32m     91\u001b[0m \u001b[38;5;124;03m    \"\"\"\u001b[39;00m\n\u001b[1;32m---> 93\u001b[0m     params \u001b[38;5;241m=\u001b[39m \u001b[38;5;28mcls\u001b[39m\u001b[38;5;241m.\u001b[39m_get_connection_params(conninfo, \u001b[38;5;241m*\u001b[39m\u001b[38;5;241m*\u001b[39mkwargs)\n\u001b[0;32m     94\u001b[0m     timeout \u001b[38;5;241m=\u001b[39m timeout_from_conninfo(params)\n\u001b[0;32m     95\u001b[0m     rv \u001b[38;5;241m=\u001b[39m \u001b[38;5;28;01mNone\u001b[39;00m\n",
      "File \u001b[1;32mc:\\Users\\raclo\\anaconda\\Lib\\site-packages\\psycopg\\connection.py:158\u001b[0m, in \u001b[0;36mConnection._get_connection_params\u001b[1;34m(cls, conninfo, **kwargs)\u001b[0m\n\u001b[0;32m    155\u001b[0m \u001b[38;5;129m@classmethod\u001b[39m\n\u001b[0;32m    156\u001b[0m \u001b[38;5;28;01mdef\u001b[39;00m \u001b[38;5;21m_get_connection_params\u001b[39m(\u001b[38;5;28mcls\u001b[39m, conninfo: \u001b[38;5;28mstr\u001b[39m, \u001b[38;5;241m*\u001b[39m\u001b[38;5;241m*\u001b[39mkwargs: Any) \u001b[38;5;241m-\u001b[39m\u001b[38;5;241m>\u001b[39m ConnDict:\n\u001b[0;32m    157\u001b[0m \u001b[38;5;250m    \u001b[39m\u001b[38;5;124;03m\"\"\"Manipulate connection parameters before connecting.\"\"\"\u001b[39;00m\n\u001b[1;32m--> 158\u001b[0m     \u001b[38;5;28;01mreturn\u001b[39;00m conninfo_to_dict(conninfo, \u001b[38;5;241m*\u001b[39m\u001b[38;5;241m*\u001b[39mkwargs)\n",
      "File \u001b[1;32mc:\\Users\\raclo\\anaconda\\Lib\\site-packages\\psycopg\\conninfo.py:82\u001b[0m, in \u001b[0;36mconninfo_to_dict\u001b[1;34m(conninfo, **kwargs)\u001b[0m\n\u001b[0;32m     67\u001b[0m \u001b[38;5;28;01mdef\u001b[39;00m \u001b[38;5;21mconninfo_to_dict\u001b[39m(conninfo: \u001b[38;5;28mstr\u001b[39m \u001b[38;5;241m=\u001b[39m \u001b[38;5;124m\"\u001b[39m\u001b[38;5;124m\"\u001b[39m, \u001b[38;5;241m*\u001b[39m\u001b[38;5;241m*\u001b[39mkwargs: ConnParam) \u001b[38;5;241m-\u001b[39m\u001b[38;5;241m>\u001b[39m ConnDict:\n\u001b[0;32m     68\u001b[0m \u001b[38;5;250m    \u001b[39m\u001b[38;5;124;03m\"\"\"\u001b[39;00m\n\u001b[0;32m     69\u001b[0m \u001b[38;5;124;03m    Convert the `!conninfo` string into a dictionary of parameters.\u001b[39;00m\n\u001b[0;32m     70\u001b[0m \n\u001b[1;32m   (...)\u001b[0m\n\u001b[0;32m     80\u001b[0m \u001b[38;5;124;03m           #LIBPQ-CONNSTRING\u001b[39;00m\n\u001b[0;32m     81\u001b[0m \u001b[38;5;124;03m    \"\"\"\u001b[39;00m\n\u001b[1;32m---> 82\u001b[0m     opts \u001b[38;5;241m=\u001b[39m _parse_conninfo(conninfo)\n\u001b[0;32m     83\u001b[0m     rv: ConnDict \u001b[38;5;241m=\u001b[39m {\n\u001b[0;32m     84\u001b[0m         opt\u001b[38;5;241m.\u001b[39mkeyword\u001b[38;5;241m.\u001b[39mdecode(): opt\u001b[38;5;241m.\u001b[39mval\u001b[38;5;241m.\u001b[39mdecode() \u001b[38;5;28;01mfor\u001b[39;00m opt \u001b[38;5;129;01min\u001b[39;00m opts \u001b[38;5;28;01mif\u001b[39;00m opt\u001b[38;5;241m.\u001b[39mval \u001b[38;5;129;01mis\u001b[39;00m \u001b[38;5;129;01mnot\u001b[39;00m \u001b[38;5;28;01mNone\u001b[39;00m\n\u001b[0;32m     85\u001b[0m     }\n\u001b[0;32m     86\u001b[0m     \u001b[38;5;28;01mfor\u001b[39;00m k, v \u001b[38;5;129;01min\u001b[39;00m kwargs\u001b[38;5;241m.\u001b[39mitems():\n",
      "File \u001b[1;32mc:\\Users\\raclo\\anaconda\\Lib\\site-packages\\psycopg\\conninfo.py:101\u001b[0m, in \u001b[0;36m_parse_conninfo\u001b[1;34m(conninfo)\u001b[0m\n\u001b[0;32m     93\u001b[0m \u001b[38;5;250m\u001b[39m\u001b[38;5;124;03m\"\"\"\u001b[39;00m\n\u001b[0;32m     94\u001b[0m \u001b[38;5;124;03mVerify that `!conninfo` is a valid connection string.\u001b[39;00m\n\u001b[0;32m     95\u001b[0m \n\u001b[1;32m   (...)\u001b[0m\n\u001b[0;32m     98\u001b[0m \u001b[38;5;124;03mReturn the result of pq.Conninfo.parse() on success.\u001b[39;00m\n\u001b[0;32m     99\u001b[0m \u001b[38;5;124;03m\"\"\"\u001b[39;00m\n\u001b[0;32m    100\u001b[0m \u001b[38;5;28;01mtry\u001b[39;00m:\n\u001b[1;32m--> 101\u001b[0m     \u001b[38;5;28;01mreturn\u001b[39;00m pq\u001b[38;5;241m.\u001b[39mConninfo\u001b[38;5;241m.\u001b[39mparse(conninfo\u001b[38;5;241m.\u001b[39mencode())\n\u001b[0;32m    102\u001b[0m \u001b[38;5;28;01mexcept\u001b[39;00m e\u001b[38;5;241m.\u001b[39mOperationalError \u001b[38;5;28;01mas\u001b[39;00m ex:\n\u001b[0;32m    103\u001b[0m     \u001b[38;5;28;01mraise\u001b[39;00m e\u001b[38;5;241m.\u001b[39mProgrammingError(\u001b[38;5;28mstr\u001b[39m(ex)) \u001b[38;5;28;01mfrom\u001b[39;00m \u001b[38;5;28;01mNone\u001b[39;00m\n",
      "\u001b[1;31mAttributeError\u001b[0m: 'NoneType' object has no attribute 'encode'"
     ]
    }
   ],
   "source": [
    "import psycopg\n",
    "from datetime import datetime\n",
    "\n",
    "def insert_article_data_from_df(df):\n",
    "    conn = psycopg.connect(dbconn)\n",
    "    cur = conn.cursor()\n",
    "\n",
    "    for _, row in df.iterrows():\n",
    "        # Convert date to datetime if needed\n",
    "        if isinstance(row['date'], str):\n",
    "            try:\n",
    "                date_obj = datetime.strptime(row['date'], \"%b %d, %Y - %H:%M\")\n",
    "            except ValueError:\n",
    "                # Try alternative format if needed\n",
    "                date_obj = pd.to_datetime(row['date'])\n",
    "        else:\n",
    "            date_obj = pd.to_datetime(row['date'])\n",
    "\n",
    "        cur.execute(\n",
    "            '''\n",
    "            INSERT INTO article_data (date, title, author, link)\n",
    "            VALUES (%s, %s, %s, %s)\n",
    "            ON CONFLICT (date) DO NOTHING;\n",
    "            ''',\n",
    "            (date_obj, row['title'], row['author'], row['link'])\n",
    "        )\n",
    "\n",
    "    conn.commit()\n",
    "    cur.close()\n",
    "    conn.close()\n",
    "\n",
    "insert_article_data_from_df(article_df)"
   ]
  },
  {
   "cell_type": "code",
   "execution_count": 16,
   "id": "0519e199",
   "metadata": {},
   "outputs": [],
   "source": [
    "# Update the article data with new articles from June 4th to June 12th, 2025\n",
    "from datetime import datetime\n",
    "import pandas as pd\n",
    "import psycopg\n",
    "\n",
    "def update_article_data_from_df(df):\n",
    "    # Parse dates safely\n",
    "    df['date'] = pd.to_datetime(df['date'], errors='coerce')\n",
    "    \n",
    "    # Filter for June 4–12, 2025\n",
    "    start_date = pd.Timestamp('2025-06-04')\n",
    "    end_date = pd.Timestamp('2025-06-12 23:59:59')  # Include full day of June 12\n",
    "    df = df[(df['date'] >= start_date) & (df['date'] <= end_date)]\n",
    "\n",
    "    # Database insert/update\n",
    "    with psycopg.connect(dbconn) as conn:\n",
    "        with conn.cursor() as cur:\n",
    "            for _, row in df.iterrows():\n",
    "                cur.execute(\n",
    "                    '''\n",
    "                    INSERT INTO article_data (date, title, author, link)\n",
    "                    VALUES (%s, %s, %s, %s)\n",
    "                    ON CONFLICT (date) DO UPDATE SET\n",
    "                        title = EXCLUDED.title,\n",
    "                        author = EXCLUDED.author,\n",
    "                        link = EXCLUDED.link;\n",
    "                    ''',\n",
    "                    (row['date'], row['title'], row['author'], row['link'])\n",
    "                )\n",
    "        conn.commit()\n",
    "        \n",
    "  "
   ]
  },
  {
   "cell_type": "markdown",
   "id": "8ffbdaba",
   "metadata": {},
   "source": [
    "## Add missing articles to Supabase"
   ]
  },
  {
   "cell_type": "code",
   "execution_count": 31,
   "id": "a8b8b3fb",
   "metadata": {},
   "outputs": [
    {
     "ename": "OperationalError",
     "evalue": "connection failed: connection to server at \"52.59.152.35\", port 5432 failed: received invalid response to GSSAPI negotiation: S",
     "output_type": "error",
     "traceback": [
      "\u001b[1;31m---------------------------------------------------------------------------\u001b[0m",
      "\u001b[1;31mOperationalError\u001b[0m                          Traceback (most recent call last)",
      "Cell \u001b[1;32mIn[31], line 5\u001b[0m\n\u001b[0;32m      1\u001b[0m \u001b[38;5;66;03m# Push filtered articles (df_filtered) to Supabase\u001b[39;00m\n\u001b[0;32m      3\u001b[0m \u001b[38;5;28;01mif\u001b[39;00m \u001b[38;5;129;01mnot\u001b[39;00m df_filtered\u001b[38;5;241m.\u001b[39mempty:\n\u001b[0;32m      4\u001b[0m     \u001b[38;5;66;03m# Add sslmode='require' to the connection\u001b[39;00m\n\u001b[1;32m----> 5\u001b[0m     \u001b[38;5;28;01mwith\u001b[39;00m psycopg\u001b[38;5;241m.\u001b[39mconnect(dbconn, sslmode\u001b[38;5;241m=\u001b[39m\u001b[38;5;124m'\u001b[39m\u001b[38;5;124mrequire\u001b[39m\u001b[38;5;124m'\u001b[39m) \u001b[38;5;28;01mas\u001b[39;00m conn:\n\u001b[0;32m      6\u001b[0m         \u001b[38;5;28;01mwith\u001b[39;00m conn\u001b[38;5;241m.\u001b[39mcursor() \u001b[38;5;28;01mas\u001b[39;00m cur:\n\u001b[0;32m      7\u001b[0m             \u001b[38;5;28;01mfor\u001b[39;00m _, row \u001b[38;5;129;01min\u001b[39;00m df_filtered\u001b[38;5;241m.\u001b[39miterrows():\n",
      "File \u001b[1;32mc:\\Users\\raclo\\anaconda\\Lib\\site-packages\\psycopg\\connection.py:117\u001b[0m, in \u001b[0;36mConnection.connect\u001b[1;34m(cls, conninfo, autocommit, prepare_threshold, context, row_factory, cursor_factory, **kwargs)\u001b[0m\n\u001b[0;32m    115\u001b[0m \u001b[38;5;28;01mif\u001b[39;00m \u001b[38;5;129;01mnot\u001b[39;00m rv:\n\u001b[0;32m    116\u001b[0m     \u001b[38;5;28;01massert\u001b[39;00m last_ex\n\u001b[1;32m--> 117\u001b[0m     \u001b[38;5;28;01mraise\u001b[39;00m last_ex\u001b[38;5;241m.\u001b[39mwith_traceback(\u001b[38;5;28;01mNone\u001b[39;00m)\n\u001b[0;32m    119\u001b[0m rv\u001b[38;5;241m.\u001b[39m_autocommit \u001b[38;5;241m=\u001b[39m \u001b[38;5;28mbool\u001b[39m(autocommit)\n\u001b[0;32m    120\u001b[0m \u001b[38;5;28;01mif\u001b[39;00m row_factory:\n",
      "\u001b[1;31mOperationalError\u001b[0m: connection failed: connection to server at \"52.59.152.35\", port 5432 failed: received invalid response to GSSAPI negotiation: S"
     ]
    }
   ],
   "source": [
    "# Push filtered articles (df_filtered) to Supabase\n",
    "\n",
    "if not df_filtered.empty:\n",
    "    # Add sslmode='require' to the connection\n",
    "    with psycopg.connect(dbconn, sslmode='require') as conn:\n",
    "        with conn.cursor() as cur:\n",
    "            for _, row in df_filtered.iterrows():\n",
    "                cur.execute(\n",
    "                    '''\n",
    "                    INSERT INTO article_data (date, title, author, link)\n",
    "                    VALUES (%s, %s, %s, %s)\n",
    "                    ON CONFLICT (date) DO NOTHING;\n",
    "                    ''',\n",
    "                    (row['date'], row['title'], row['author'], row['link'])\n",
    "                )\n",
    "        conn.commit()\n",
    "    print(f\"Pushed {len(df_filtered)} articles from June 4–12, 2025 to Supabase.\")\n",
    "else:\n",
    "    print(\"No articles found for June 4–12, 2025.\")\n"
   ]
  },
  {
   "cell_type": "code",
   "execution_count": 2,
   "id": "84debd0a",
   "metadata": {},
   "outputs": [
    {
     "name": "stdout",
     "output_type": "stream",
     "text": [
      "❌ Connection failed: 'NoneType' object has no attribute 'encode'\n"
     ]
    }
   ],
   "source": [
    "import os\n",
    "from dotenv import load_dotenv\n",
    "import psycopg\n",
    "\n",
    "load_dotenv()\n",
    "dbconn = os.getenv(\"DB_CONN\")\n",
    "\n",
    "try:\n",
    "    with psycopg.connect(dbconn) as conn:\n",
    "        print(\"✅ Connected to Supabase PostgreSQL!\")\n",
    "except Exception as e:\n",
    "    print(\"❌ Connection failed:\", e)\n"
   ]
  }
 ],
 "metadata": {
  "kernelspec": {
   "display_name": "base",
   "language": "python",
   "name": "python3"
  },
  "language_info": {
   "codemirror_mode": {
    "name": "ipython",
    "version": 3
   },
   "file_extension": ".py",
   "mimetype": "text/x-python",
   "name": "python",
   "nbconvert_exporter": "python",
   "pygments_lexer": "ipython3",
   "version": "3.12.3"
  }
 },
 "nbformat": 4,
 "nbformat_minor": 5
}
