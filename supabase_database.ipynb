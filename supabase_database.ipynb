{
 "cells": [
  {
   "cell_type": "code",
   "execution_count": 1,
   "id": "7effdfd5",
   "metadata": {},
   "outputs": [],
   "source": [
    "from dotenv import load_dotenv\n",
    "import os\n",
    "load_dotenv()\n",
    "\n",
    "dbconn = os.getenv(\"DB_CONN\")"
   ]
  },
  {
   "cell_type": "code",
   "execution_count": 2,
   "id": "18d20207",
   "metadata": {},
   "outputs": [
    {
     "name": "stdout",
     "output_type": "stream",
     "text": [
      "^C\n",
      "Note: you may need to restart the kernel to use updated packages.\n"
     ]
    },
    {
     "name": "stdout",
     "output_type": "stream",
     "text": [
      "Requirement already satisfied: psycopg[binary] in c:\\users\\raclo\\anaconda3\\lib\\site-packages (3.2.9)\n",
      "Requirement already satisfied: typing-extensions>=4.6 in c:\\users\\raclo\\anaconda3\\lib\\site-packages (from psycopg[binary]) (4.11.0)\n",
      "Requirement already satisfied: tzdata in c:\\users\\raclo\\anaconda3\\lib\\site-packages (from psycopg[binary]) (2023.3)\n",
      "Requirement already satisfied: psycopg-binary==3.2.9 in c:\\users\\raclo\\anaconda3\\lib\\site-packages (from psycopg[binary]) (3.2.9)\n"
     ]
    }
   ],
   "source": [
    "pip install \"psycopg[binary]\" \n"
   ]
  },
  {
   "cell_type": "code",
   "execution_count": null,
   "id": "b694d8e5",
   "metadata": {},
   "outputs": [],
   "source": [
    "%pip install psycopg"
   ]
  },
  {
   "cell_type": "code",
   "execution_count": null,
   "id": "44dd7abb",
   "metadata": {},
   "outputs": [],
   "source": [
    "import psycopg\n",
    "\n",
    "# establish a connection to the database\n",
    "conn = psycopg.connect(dbconn)\n",
    "\n",
    "# or use the connection string directly\n",
    "# create a cursor object\n",
    "cur = conn.cursor()"
   ]
  },
  {
   "cell_type": "code",
   "execution_count": null,
   "id": "104ac306",
   "metadata": {},
   "outputs": [],
   "source": [
    "# Create a table for the stock market data\n",
    "def create_table():\n",
    "    conn = psycopg.connect(dbconn)\n",
    "    cur = conn.cursor()\n",
    "    cur.execute(\n",
    "        '''\n",
    "            CREATE TABLE IF NOT EXISTS api_data(\n",
    "                date TIMESTAMP PRIMARY KEY,\n",
    "                open FLOAT,\n",
    "                high FLOAT,\n",
    "                low FLOAT,\n",
    "                close FLOAT,\n",
    "                volume FLOAT\n",
    "                            );\n",
    "        '''\n",
    "    )\n",
    "    conn.commit()\n",
    "    cur.close()\n",
    "    conn.close()\n",
    "\n",
    "create_table()\n"
   ]
  },
  {
   "cell_type": "code",
   "execution_count": null,
   "id": "74473037",
   "metadata": {},
   "outputs": [],
   "source": [
    "# Create a table for the article data\n",
    "def create_article_table():\n",
    "    conn = psycopg.connect(dbconn)\n",
    "    cur = conn.cursor()\n",
    "    cur.execute(\n",
    "        '''\n",
    "            CREATE TABLE IF NOT EXISTS article_data(\n",
    "                date TIMESTAMP PRIMARY KEY,\n",
    "                title TEXT,\n",
    "                author TEXT,\n",
    "                link TEXT\n",
    "            );\n",
    "        '''\n",
    "    )\n",
    "    conn.commit()\n",
    "    cur.close()\n",
    "    conn.close()\n",
    "\n",
    "create_article_table()"
   ]
  },
  {
   "cell_type": "code",
   "execution_count": null,
   "id": "e158d02a",
   "metadata": {},
   "outputs": [],
   "source": [
    "import pandas as pd\n",
    "\n",
    "btc_df = pd.read_csv('btc_prices.csv')\n",
    "btc_df.head()"
   ]
  },
  {
   "cell_type": "code",
   "execution_count": null,
   "id": "ea7f31be",
   "metadata": {},
   "outputs": [],
   "source": [
    "# Insert stock price data to the supabase table\n",
    "\n",
    "from datetime import datetime\n",
    "import psycopg\n",
    "import pandas as pd\n",
    "\n",
    "def insert_stock_data_from_df(df):\n",
    "    conn = psycopg.connect(dbconn)\n",
    "    cur = conn.cursor()\n",
    "\n",
    "    for _, row in df.iterrows():\n",
    "        # Convert date to datetime if needed\n",
    "        if isinstance(row['date'], str):\n",
    "            date_obj = datetime.strptime(row['date'], \"%Y-%m-%d\")\n",
    "        else:\n",
    "            date_obj = pd.to_datetime(row['date'])\n",
    "\n",
    "        cur.execute(\n",
    "            '''\n",
    "            INSERT INTO api_data (date, open, high, low, close, volume)\n",
    "            VALUES (%s, %s, %s, %s, %s, %s)\n",
    "            ON CONFLICT (date) DO NOTHING;\n",
    "            ''',\n",
    "            (date_obj, row['open'], row['high'], row['low'], row['close'], row['volume'])\n",
    "        )\n",
    "\n",
    "    conn.commit()\n",
    "    cur.close()\n",
    "    conn.close()\n",
    "\n",
    "# Then call it like this:\n",
    "insert_stock_data_from_df(btc_df)\n"
   ]
  },
  {
   "cell_type": "code",
   "execution_count": 4,
   "id": "b445e29b",
   "metadata": {},
   "outputs": [
    {
     "data": {
      "text/html": [
       "<div>\n",
       "<style scoped>\n",
       "    .dataframe tbody tr th:only-of-type {\n",
       "        vertical-align: middle;\n",
       "    }\n",
       "\n",
       "    .dataframe tbody tr th {\n",
       "        vertical-align: top;\n",
       "    }\n",
       "\n",
       "    .dataframe thead th {\n",
       "        text-align: right;\n",
       "    }\n",
       "</style>\n",
       "<table border=\"1\" class=\"dataframe\">\n",
       "  <thead>\n",
       "    <tr style=\"text-align: right;\">\n",
       "      <th></th>\n",
       "      <th>date</th>\n",
       "      <th>title</th>\n",
       "      <th>author</th>\n",
       "      <th>link</th>\n",
       "    </tr>\n",
       "  </thead>\n",
       "  <tbody>\n",
       "    <tr>\n",
       "      <th>0</th>\n",
       "      <td>Jun 3, 2025 - 8:26</td>\n",
       "      <td>Tether Moves $1,107,371,328 Bitcoin, CEO Break...</td>\n",
       "      <td>Gamza Khanzadaev</td>\n",
       "      <td>https://u.today/tether-moves-1107371328-bitcoi...</td>\n",
       "    </tr>\n",
       "    <tr>\n",
       "      <th>1</th>\n",
       "      <td>Jun 3, 2025 - 7:29</td>\n",
       "      <td>Gold Copying Bitcoin’s Breakout Trajectory: Le...</td>\n",
       "      <td>Yuri Molchan</td>\n",
       "      <td>https://u.today/gold-copying-bitcoins-breakout...</td>\n",
       "    </tr>\n",
       "    <tr>\n",
       "      <th>2</th>\n",
       "      <td>Jun 3, 2025 - 6:04</td>\n",
       "      <td>Bitcoin ETFs: SEC Commissioner Says Agency to ...</td>\n",
       "      <td>Alex Dovbnya</td>\n",
       "      <td>https://u.today/bitcoin-etfs-sec-commissioner-...</td>\n",
       "    </tr>\n",
       "    <tr>\n",
       "      <th>3</th>\n",
       "      <td>Jun 3, 2025 - 1:13</td>\n",
       "      <td>$5.86 Billion In Bitcoin Flows Into ETFs In May</td>\n",
       "      <td>Caroline Amosun</td>\n",
       "      <td>https://u.today/586-billion-in-bitcoin-flows-i...</td>\n",
       "    </tr>\n",
       "    <tr>\n",
       "      <th>4</th>\n",
       "      <td>Jun 2, 2025 - 23:43</td>\n",
       "      <td>Strategy to Boost Bitcoin (BTC) Acquisitions w...</td>\n",
       "      <td>Paul Adedoyin</td>\n",
       "      <td>https://u.today/strategy-to-boost-bitcoin-btc-...</td>\n",
       "    </tr>\n",
       "  </tbody>\n",
       "</table>\n",
       "</div>"
      ],
      "text/plain": [
       "                  date                                              title  \\\n",
       "0   Jun 3, 2025 - 8:26  Tether Moves $1,107,371,328 Bitcoin, CEO Break...   \n",
       "1   Jun 3, 2025 - 7:29  Gold Copying Bitcoin’s Breakout Trajectory: Le...   \n",
       "2   Jun 3, 2025 - 6:04  Bitcoin ETFs: SEC Commissioner Says Agency to ...   \n",
       "3   Jun 3, 2025 - 1:13    $5.86 Billion In Bitcoin Flows Into ETFs In May   \n",
       "4  Jun 2, 2025 - 23:43  Strategy to Boost Bitcoin (BTC) Acquisitions w...   \n",
       "\n",
       "             author                                               link  \n",
       "0  Gamza Khanzadaev  https://u.today/tether-moves-1107371328-bitcoi...  \n",
       "1      Yuri Molchan  https://u.today/gold-copying-bitcoins-breakout...  \n",
       "2      Alex Dovbnya  https://u.today/bitcoin-etfs-sec-commissioner-...  \n",
       "3   Caroline Amosun  https://u.today/586-billion-in-bitcoin-flows-i...  \n",
       "4     Paul Adedoyin  https://u.today/strategy-to-boost-bitcoin-btc-...  "
      ]
     },
     "execution_count": 4,
     "metadata": {},
     "output_type": "execute_result"
    }
   ],
   "source": [
    "import pandas as pd\n",
    "article_df = pd.read_csv('u_today_articles.csv')\n",
    "article_df.head()"
   ]
  },
  {
   "cell_type": "code",
   "execution_count": 5,
   "id": "a409055f",
   "metadata": {},
   "outputs": [],
   "source": [
    "import psycopg\n",
    "from datetime import datetime\n",
    "\n",
    "def insert_article_data_from_df(df):\n",
    "    conn = psycopg.connect(dbconn)\n",
    "    cur = conn.cursor()\n",
    "\n",
    "    for _, row in df.iterrows():\n",
    "        # Convert date to datetime if needed\n",
    "        if isinstance(row['date'], str):\n",
    "            try:\n",
    "                date_obj = datetime.strptime(row['date'], \"%b %d, %Y - %H:%M\")\n",
    "            except ValueError:\n",
    "                # Try alternative format if needed\n",
    "                date_obj = pd.to_datetime(row['date'])\n",
    "        else:\n",
    "            date_obj = pd.to_datetime(row['date'])\n",
    "\n",
    "        cur.execute(\n",
    "            '''\n",
    "            INSERT INTO article_data (date, title, author, link)\n",
    "            VALUES (%s, %s, %s, %s)\n",
    "            ON CONFLICT (date) DO NOTHING;\n",
    "            ''',\n",
    "            (date_obj, row['title'], row['author'], row['link'])\n",
    "        )\n",
    "\n",
    "    conn.commit()\n",
    "    cur.close()\n",
    "    conn.close()\n",
    "\n",
    "insert_article_data_from_df(article_df)"
   ]
  }
 ],
 "metadata": {
  "kernelspec": {
   "display_name": "base",
   "language": "python",
   "name": "python3"
  },
  "language_info": {
   "codemirror_mode": {
    "name": "ipython",
    "version": 3
   },
   "file_extension": ".py",
   "mimetype": "text/x-python",
   "name": "python",
   "nbconvert_exporter": "python",
   "pygments_lexer": "ipython3",
   "version": "3.12.7"
  }
 },
 "nbformat": 4,
 "nbformat_minor": 5
}
