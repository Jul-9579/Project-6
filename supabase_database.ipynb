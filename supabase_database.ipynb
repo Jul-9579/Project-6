{
 "cells": [
  {
   "cell_type": "code",
   "execution_count": 9,
   "id": "7effdfd5",
   "metadata": {},
   "outputs": [],
   "source": [
    "from dotenv import load_dotenv\n",
    "import os\n",
    "load_dotenv()\n",
    "\n",
    "dbconn = os.getenv(\"DB_CONN\")"
   ]
  },
  {
   "cell_type": "code",
   "execution_count": 3,
   "id": "18d20207",
   "metadata": {},
   "outputs": [
    {
     "name": "stdout",
     "output_type": "stream",
     "text": [
      "Requirement already satisfied: psycopg[binary] in c:\\users\\raclo\\anaconda3\\lib\\site-packages (3.2.9)\n",
      "Requirement already satisfied: typing-extensions>=4.6 in c:\\users\\raclo\\anaconda3\\lib\\site-packages (from psycopg[binary]) (4.11.0)\n",
      "Requirement already satisfied: tzdata in c:\\users\\raclo\\anaconda3\\lib\\site-packages (from psycopg[binary]) (2023.3)\n",
      "Requirement already satisfied: psycopg-binary==3.2.9 in c:\\users\\raclo\\anaconda3\\lib\\site-packages (from psycopg[binary]) (3.2.9)\n",
      "Note: you may need to restart the kernel to use updated packages.\n"
     ]
    }
   ],
   "source": [
    "pip install \"psycopg[binary]\" \n"
   ]
  },
  {
   "cell_type": "code",
   "execution_count": 5,
   "id": "b694d8e5",
   "metadata": {},
   "outputs": [
    {
     "name": "stdout",
     "output_type": "stream",
     "text": [
      "Requirement already satisfied: psycopg in c:\\users\\raclo\\anaconda3\\lib\\site-packages (3.2.9)\n",
      "Requirement already satisfied: typing-extensions>=4.6 in c:\\users\\raclo\\anaconda3\\lib\\site-packages (from psycopg) (4.11.0)\n",
      "Requirement already satisfied: tzdata in c:\\users\\raclo\\anaconda3\\lib\\site-packages (from psycopg) (2023.3)\n",
      "Note: you may need to restart the kernel to use updated packages.\n"
     ]
    }
   ],
   "source": [
    "%pip install psycopg"
   ]
  },
  {
   "cell_type": "code",
   "execution_count": 10,
   "id": "44dd7abb",
   "metadata": {},
   "outputs": [],
   "source": [
    "import psycopg\n",
    "\n",
    "# establish a connection to the database\n",
    "conn = psycopg.connect(dbconn)\n",
    "\n",
    "# or use the connection string directly\n",
    "# create a cursor object\n",
    "cur = conn.cursor()"
   ]
  },
  {
   "cell_type": "code",
   "execution_count": 26,
   "id": "104ac306",
   "metadata": {},
   "outputs": [],
   "source": [
    "# Create a table for the stock market data\n",
    "def create_table():\n",
    "    conn = psycopg.connect(dbconn)\n",
    "    cur = conn.cursor()\n",
    "    cur.execute(\n",
    "        '''\n",
    "            CREATE TABLE IF NOT EXISTS api_data(\n",
    "                date TIMESTAMP PRIMARY KEY,\n",
    "                open FLOAT,\n",
    "                high FLOAT,\n",
    "                low FLOAT,\n",
    "                close FLOAT,\n",
    "                volume FLOAT\n",
    "                            );\n",
    "        '''\n",
    "    )\n",
    "    conn.commit()\n",
    "    cur.close()\n",
    "    conn.close()\n",
    "\n",
    "create_table()\n"
   ]
  },
  {
   "cell_type": "code",
   "execution_count": 14,
   "id": "74473037",
   "metadata": {},
   "outputs": [],
   "source": [
    "# Create a table for the article data\n",
    "def create_article_table():\n",
    "    conn = psycopg.connect(dbconn)\n",
    "    cur = conn.cursor()\n",
    "    cur.execute(\n",
    "        '''\n",
    "            CREATE TABLE IF NOT EXISTS article_data(\n",
    "                date TIMESTAMP PRIMARY KEY,\n",
    "                title TEXT,\n",
    "                author TEXT,\n",
    "                link TEXT\n",
    "            );\n",
    "        '''\n",
    "    )\n",
    "    conn.commit()\n",
    "    cur.close()\n",
    "    conn.close()\n",
    "\n",
    "create_article_table()"
   ]
  },
  {
   "cell_type": "code",
   "execution_count": 33,
   "id": "e158d02a",
   "metadata": {},
   "outputs": [
    {
     "data": {
      "text/html": [
       "<div>\n",
       "<style scoped>\n",
       "    .dataframe tbody tr th:only-of-type {\n",
       "        vertical-align: middle;\n",
       "    }\n",
       "\n",
       "    .dataframe tbody tr th {\n",
       "        vertical-align: top;\n",
       "    }\n",
       "\n",
       "    .dataframe thead th {\n",
       "        text-align: right;\n",
       "    }\n",
       "</style>\n",
       "<table border=\"1\" class=\"dataframe\">\n",
       "  <thead>\n",
       "    <tr style=\"text-align: right;\">\n",
       "      <th></th>\n",
       "      <th>symbol</th>\n",
       "      <th>date</th>\n",
       "      <th>open</th>\n",
       "      <th>high</th>\n",
       "      <th>low</th>\n",
       "      <th>close</th>\n",
       "      <th>volume</th>\n",
       "    </tr>\n",
       "  </thead>\n",
       "  <tbody>\n",
       "    <tr>\n",
       "      <th>0</th>\n",
       "      <td>BTC</td>\n",
       "      <td>2025-06-03</td>\n",
       "      <td>92492.40</td>\n",
       "      <td>93037.19</td>\n",
       "      <td>92403.27</td>\n",
       "      <td>92911.79</td>\n",
       "      <td>3.603359</td>\n",
       "    </tr>\n",
       "    <tr>\n",
       "      <th>1</th>\n",
       "      <td>BTC</td>\n",
       "      <td>2025-06-02</td>\n",
       "      <td>93129.28</td>\n",
       "      <td>93133.86</td>\n",
       "      <td>90726.84</td>\n",
       "      <td>92494.38</td>\n",
       "      <td>221.004414</td>\n",
       "    </tr>\n",
       "    <tr>\n",
       "      <th>2</th>\n",
       "      <td>BTC</td>\n",
       "      <td>2025-06-01</td>\n",
       "      <td>92308.49</td>\n",
       "      <td>93307.12</td>\n",
       "      <td>91577.88</td>\n",
       "      <td>93142.55</td>\n",
       "      <td>95.298677</td>\n",
       "    </tr>\n",
       "    <tr>\n",
       "      <th>3</th>\n",
       "      <td>BTC</td>\n",
       "      <td>2025-05-31</td>\n",
       "      <td>91712.80</td>\n",
       "      <td>92599.72</td>\n",
       "      <td>90942.82</td>\n",
       "      <td>92311.30</td>\n",
       "      <td>122.897721</td>\n",
       "    </tr>\n",
       "    <tr>\n",
       "      <th>4</th>\n",
       "      <td>BTC</td>\n",
       "      <td>2025-05-30</td>\n",
       "      <td>92825.40</td>\n",
       "      <td>93749.99</td>\n",
       "      <td>91369.44</td>\n",
       "      <td>91725.02</td>\n",
       "      <td>287.208543</td>\n",
       "    </tr>\n",
       "  </tbody>\n",
       "</table>\n",
       "</div>"
      ],
      "text/plain": [
       "  symbol        date      open      high       low     close      volume\n",
       "0    BTC  2025-06-03  92492.40  93037.19  92403.27  92911.79    3.603359\n",
       "1    BTC  2025-06-02  93129.28  93133.86  90726.84  92494.38  221.004414\n",
       "2    BTC  2025-06-01  92308.49  93307.12  91577.88  93142.55   95.298677\n",
       "3    BTC  2025-05-31  91712.80  92599.72  90942.82  92311.30  122.897721\n",
       "4    BTC  2025-05-30  92825.40  93749.99  91369.44  91725.02  287.208543"
      ]
     },
     "execution_count": 33,
     "metadata": {},
     "output_type": "execute_result"
    }
   ],
   "source": [
    "import pandas as pd\n",
    "\n",
    "btc_df = pd.read_csv('btc_prices.csv')\n",
    "btc_df.head()"
   ]
  },
  {
   "cell_type": "code",
   "execution_count": null,
   "id": "ea7f31be",
   "metadata": {},
   "outputs": [],
   "source": [
    "# Insert stock price data to the supabase table\n",
    "\n",
    "from datetime import datetime\n",
    "import psycopg\n",
    "import pandas as pd\n",
    "\n",
    "def insert_stock_data_from_df(df):\n",
    "    conn = psycopg.connect(dbconn)\n",
    "    cur = conn.cursor()\n",
    "\n",
    "    for _, row in df.iterrows():\n",
    "        # Convert date to datetime if needed\n",
    "        if isinstance(row['date'], str):\n",
    "            date_obj = datetime.strptime(row['date'], \"%Y-%m-%d\")\n",
    "        else:\n",
    "            date_obj = pd.to_datetime(row['date'])\n",
    "\n",
    "        cur.execute(\n",
    "            '''\n",
    "            INSERT INTO api_data (date, open, high, low, close, volume)\n",
    "            VALUES (%s, %s, %s, %s, %s, %s)\n",
    "            ON CONFLICT (date) DO NOTHING;\n",
    "            ''',\n",
    "            (date_obj, row['open'], row['high'], row['low'], row['close'], row['volume'])\n",
    "        )\n",
    "\n",
    "    conn.commit()\n",
    "    cur.close()\n",
    "    conn.close()\n",
    "\n",
    "# Then call it like this:\n",
    "insert_stock_data_from_df(btc_df)\n"
   ]
  },
  {
   "cell_type": "code",
   "execution_count": 34,
   "id": "5da97892",
   "metadata": {},
   "outputs": [],
   "source": [
    "# Insert article data to the supabase table\n",
    "def insert_article_data_from_df(df):\n",
    "    conn = psycopg.connect(dbconn)\n",
    "    cur = conn.cursor()\n",
    "\n",
    "    for _, row in df.iterrows():\n",
    "        # Convert date to datetime if needed\n",
    "        if isinstance(row['date'], str):\n",
    "            date_obj = datetime.strptime(row['date'], \"%Y-%m-%d\")\n",
    "        else:\n",
    "            date_obj = pd.to_datetime(row['date'])\n",
    "\n",
    "        cur.execute(\n",
    "            '''\n",
    "            INSERT INTO article_data (date, title, author, link)\n",
    "            VALUES (%s, %s, %s, %s)\n",
    "            ON CONFLICT (date) DO NOTHING;\n",
    "            ''',\n",
    "            (date_obj, row['title'], row['author'], row['link'])\n",
    "        )\n",
    "\n",
    "    conn.commit()\n",
    "    cur.close()\n",
    "    conn.close()"
   ]
  }
 ],
 "metadata": {
  "kernelspec": {
   "display_name": "base",
   "language": "python",
   "name": "python3"
  },
  "language_info": {
   "codemirror_mode": {
    "name": "ipython",
    "version": 3
   },
   "file_extension": ".py",
   "mimetype": "text/x-python",
   "name": "python",
   "nbconvert_exporter": "python",
   "pygments_lexer": "ipython3",
   "version": "3.12.7"
  }
 },
 "nbformat": 4,
 "nbformat_minor": 5
}
